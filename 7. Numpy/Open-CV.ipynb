{
 "cells": [
  {
   "cell_type": "code",
   "execution_count": 2,
   "metadata": {},
   "outputs": [],
   "source": [
    "import cv2"
   ]
  },
  {
   "cell_type": "code",
   "execution_count": 6,
   "metadata": {
    "scrolled": true
   },
   "outputs": [],
   "source": [
    "im_g = cv2.imread(\"smallgray.png\",0)"
   ]
  },
  {
   "cell_type": "code",
   "execution_count": 7,
   "metadata": {},
   "outputs": [
    {
     "data": {
      "text/plain": [
       "array([[187, 158, 104, 121, 143],\n",
       "       [198, 125, 255, 255, 147],\n",
       "       [209, 134, 255,  97, 182]], dtype=uint8)"
      ]
     },
     "execution_count": 7,
     "metadata": {},
     "output_type": "execute_result"
    }
   ],
   "source": [
    "im_g"
   ]
  },
  {
   "cell_type": "code",
   "execution_count": 5,
   "metadata": {},
   "outputs": [
    {
     "data": {
      "text/plain": [
       "True"
      ]
     },
     "execution_count": 5,
     "metadata": {},
     "output_type": "execute_result"
    }
   ],
   "source": [
    "cv2.imwrite(\"newsmallgray.png\",im_g)"
   ]
  },
  {
   "cell_type": "code",
   "execution_count": 12,
   "metadata": {},
   "outputs": [
    {
     "data": {
      "text/plain": [
       "182"
      ]
     },
     "execution_count": 12,
     "metadata": {},
     "output_type": "execute_result"
    }
   ],
   "source": [
    "im_g[2,4]"
   ]
  },
  {
   "cell_type": "code",
   "execution_count": 14,
   "metadata": {},
   "outputs": [
    {
     "name": "stdout",
     "output_type": "stream",
     "text": [
      "[187 158 104 121 143]\n",
      "[198 125 255 255 147]\n",
      "[209 134 255  97 182]\n"
     ]
    }
   ],
   "source": [
    "for i in im_g:\n",
    "    print(i)"
   ]
  },
  {
   "cell_type": "code",
   "execution_count": 18,
   "metadata": {},
   "outputs": [
    {
     "name": "stdout",
     "output_type": "stream",
     "text": [
      "[187 198 209]\n",
      "[158 125 134]\n",
      "[104 255 255]\n",
      "[121 255  97]\n",
      "[143 147 182]\n"
     ]
    }
   ],
   "source": [
    "for i in im_g.T:\n",
    "    print(i)"
   ]
  },
  {
   "cell_type": "code",
   "execution_count": 15,
   "metadata": {},
   "outputs": [
    {
     "name": "stdout",
     "output_type": "stream",
     "text": [
      "187\n",
      "158\n",
      "104\n",
      "121\n",
      "143\n",
      "198\n",
      "125\n",
      "255\n",
      "255\n",
      "147\n",
      "209\n",
      "134\n",
      "255\n",
      "97\n",
      "182\n"
     ]
    }
   ],
   "source": [
    "for i in im_g.flat:\n",
    "    print(i)"
   ]
  },
  {
   "cell_type": "code",
   "execution_count": 19,
   "metadata": {},
   "outputs": [
    {
     "data": {
      "text/plain": [
       "array([[187, 158, 104, 121, 143],\n",
       "       [198, 125, 255, 255, 147],\n",
       "       [209, 134, 255,  97, 182]], dtype=uint8)"
      ]
     },
     "execution_count": 19,
     "metadata": {},
     "output_type": "execute_result"
    }
   ],
   "source": [
    "im_g"
   ]
  },
  {
   "cell_type": "code",
   "execution_count": 20,
   "metadata": {},
   "outputs": [],
   "source": [
    "import numpy as np"
   ]
  },
  {
   "cell_type": "code",
   "execution_count": 26,
   "metadata": {},
   "outputs": [],
   "source": [
    "ims = np.vstack((im_g,im_g,im_g))"
   ]
  },
  {
   "cell_type": "code",
   "execution_count": 27,
   "metadata": {},
   "outputs": [
    {
     "name": "stdout",
     "output_type": "stream",
     "text": [
      "[[187 158 104 121 143]\n",
      " [198 125 255 255 147]\n",
      " [209 134 255  97 182]\n",
      " [187 158 104 121 143]\n",
      " [198 125 255 255 147]\n",
      " [209 134 255  97 182]\n",
      " [187 158 104 121 143]\n",
      " [198 125 255 255 147]\n",
      " [209 134 255  97 182]]\n"
     ]
    }
   ],
   "source": [
    "print(ims)"
   ]
  },
  {
   "cell_type": "code",
   "execution_count": 35,
   "metadata": {},
   "outputs": [],
   "source": [
    "lst=np.vsplit(ims,3)"
   ]
  },
  {
   "cell_type": "code",
   "execution_count": 36,
   "metadata": {},
   "outputs": [
    {
     "data": {
      "text/plain": [
       "[array([[187, 158, 104, 121, 143],\n",
       "        [198, 125, 255, 255, 147],\n",
       "        [209, 134, 255,  97, 182]], dtype=uint8),\n",
       " array([[187, 158, 104, 121, 143],\n",
       "        [198, 125, 255, 255, 147],\n",
       "        [209, 134, 255,  97, 182]], dtype=uint8),\n",
       " array([[187, 158, 104, 121, 143],\n",
       "        [198, 125, 255, 255, 147],\n",
       "        [209, 134, 255,  97, 182]], dtype=uint8)]"
      ]
     },
     "execution_count": 36,
     "metadata": {},
     "output_type": "execute_result"
    }
   ],
   "source": [
    "lst"
   ]
  },
  {
   "cell_type": "code",
   "execution_count": 37,
   "metadata": {},
   "outputs": [
    {
     "data": {
      "text/plain": [
       "array([[187, 158, 104, 121, 143],\n",
       "       [198, 125, 255, 255, 147],\n",
       "       [209, 134, 255,  97, 182]], dtype=uint8)"
      ]
     },
     "execution_count": 37,
     "metadata": {},
     "output_type": "execute_result"
    }
   ],
   "source": [
    "lst[0]"
   ]
  },
  {
   "cell_type": "code",
   "execution_count": null,
   "metadata": {},
   "outputs": [],
   "source": []
  },
  {
   "cell_type": "code",
   "execution_count": null,
   "metadata": {},
   "outputs": [],
   "source": []
  }
 ],
 "metadata": {
  "kernelspec": {
   "display_name": "Python 3",
   "language": "python",
   "name": "python3"
  },
  "language_info": {
   "codemirror_mode": {
    "name": "ipython",
    "version": 3
   },
   "file_extension": ".py",
   "mimetype": "text/x-python",
   "name": "python",
   "nbconvert_exporter": "python",
   "pygments_lexer": "ipython3",
   "version": "3.6.5"
  }
 },
 "nbformat": 4,
 "nbformat_minor": 2
}
