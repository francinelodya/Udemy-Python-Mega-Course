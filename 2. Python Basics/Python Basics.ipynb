{
 "cells": [
  {
   "cell_type": "code",
   "execution_count": 1,
   "metadata": {},
   "outputs": [
    {
     "name": "stdout",
     "output_type": "stream",
     "text": [
      "Flat Floor Street 18\n",
      "Enter your pin: 1234\n",
      "Enter fruit: Apple\n",
      "No such fruit found!\n"
     ]
    }
   ],
   "source": [
    "address = [\"Flat Floor Street\", \"18\", \"New York\"]\n",
    "pins = {\"Mike\":1234, \"Joe\":1111, \"Jack\":2222}\n",
    "\n",
    "print(address[0], address[1])\n",
    "\n",
    "pin = int(input(\"Enter your pin: \"))\n",
    "\n",
    "def find_in_file(f):    \n",
    "    myfile = open(\"sample.txt\")\n",
    "    fruits = myfile.read()\n",
    "    fruits = fruits.splitlines()\n",
    "    if f in fruits:\n",
    "        return \"That fruit is in the list.\"\n",
    "    else:\n",
    "        return \"No such fruit found!\"\n",
    "            \n",
    "if pin in pins.values():\n",
    "    fruit = input(\"Enter fruit: \")\n",
    "    print(find_in_file(fruit))\n",
    "else:\n",
    "    print(\"Incorrect pin!\") \n",
    "    print(\"This info can be accessed only by: \")\n",
    "    for key in pins.keys():\n",
    "        print(key)\n"
   ]
  },
  {
   "cell_type": "code",
   "execution_count": null,
   "metadata": {},
   "outputs": [],
   "source": []
  }
 ],
 "metadata": {
  "kernelspec": {
   "display_name": "Python 3",
   "language": "python",
   "name": "python3"
  },
  "language_info": {
   "codemirror_mode": {
    "name": "ipython",
    "version": 3
   },
   "file_extension": ".py",
   "mimetype": "text/x-python",
   "name": "python",
   "nbconvert_exporter": "python",
   "pygments_lexer": "ipython3",
   "version": "3.6.5"
  }
 },
 "nbformat": 4,
 "nbformat_minor": 2
}
