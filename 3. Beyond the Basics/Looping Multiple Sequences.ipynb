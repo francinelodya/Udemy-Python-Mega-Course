{
 "cells": [
  {
   "cell_type": "code",
   "execution_count": 1,
   "metadata": {},
   "outputs": [
    {
     "name": "stdout",
     "output_type": "stream",
     "text": [
      "a is 1\n",
      "b is 2\n",
      "c is 3\n"
     ]
    }
   ],
   "source": [
    "a  = ['a','b','c']\n",
    "b = [1,2,3]\n",
    "for i,j in zip(a,b):\n",
    "    print(\"%s is %s\" %(i,j))"
   ]
  },
  {
   "cell_type": "code",
   "execution_count": 2,
   "metadata": {},
   "outputs": [
    {
     "name": "stdout",
     "output_type": "stream",
     "text": [
      "a 1\n",
      "b 2\n",
      "c 3\n"
     ]
    }
   ],
   "source": [
    "a  = ['a','b','c']\n",
    "b = [1,2,3]\n",
    "for i,j in zip(a,b):\n",
    "    print(i,j)"
   ]
  },
  {
   "cell_type": "code",
   "execution_count": 4,
   "metadata": {},
   "outputs": [
    {
     "data": {
      "text/plain": [
       "14"
      ]
     },
     "execution_count": 4,
     "metadata": {},
     "output_type": "execute_result"
    }
   ],
   "source": [
    "myfile = open(\"example.txt\",\"w\")\n",
    "myfile.write(\"Flash is Back!\")"
   ]
  },
  {
   "cell_type": "code",
   "execution_count": 5,
   "metadata": {},
   "outputs": [],
   "source": [
    "myfile.close()"
   ]
  },
  {
   "cell_type": "code",
   "execution_count": 6,
   "metadata": {},
   "outputs": [],
   "source": [
    "with open(\"example.txt\",\"w\") as myfile:\n",
    "    myfile.write(\"Flash is Back!\")"
   ]
  },
  {
   "cell_type": "code",
   "execution_count": 12,
   "metadata": {},
   "outputs": [],
   "source": [
    "temperatures = [10, -20, -289, 100]\n",
    "\n",
    "\n",
    "def writer(temperatures):\n",
    "     with open(\"outputs.txt\",\"w\") as file:\n",
    "            for c in temperatures:\n",
    "                    if c > -273.15:\n",
    "                        f = c* 9/5 + 32\n",
    "                        file.write(str(f)+\"\\n\")\n",
    "writer(temperatures)"
   ]
  },
  {
   "cell_type": "code",
   "execution_count": 14,
   "metadata": {},
   "outputs": [],
   "source": [
    "import glob2"
   ]
  },
  {
   "cell_type": "code",
   "execution_count": 15,
   "metadata": {},
   "outputs": [
    {
     "data": {
      "text/plain": [
       "<module 'glob2' from 'c:\\\\users\\\\user\\\\appdata\\\\local\\\\programs\\\\python\\\\python36\\\\lib\\\\site-packages\\\\glob2\\\\__init__.py'>"
      ]
     },
     "execution_count": 15,
     "metadata": {},
     "output_type": "execute_result"
    }
   ],
   "source": [
    "glob2"
   ]
  },
  {
   "cell_type": "code",
   "execution_count": 19,
   "metadata": {},
   "outputs": [],
   "source": [
    "import glob2\n",
    "from datetime import datetime\n",
    "\n",
    "filenames = glob2.glob(\"*.txt\")\n",
    "with open(datetime.now().strftime(\"%Y-%m-%d-%H-%M-%S-%f\")+\".txt\",'w') as yfile:\n",
    "    for filename in filenames:\n",
    "        with open(filename,\"r\") as f:\n",
    "            yfile.write(f.read()+\"\\n\")"
   ]
  },
  {
   "cell_type": "code",
   "execution_count": null,
   "metadata": {},
   "outputs": [],
   "source": []
  }
 ],
 "metadata": {
  "kernelspec": {
   "display_name": "Python 3",
   "language": "python",
   "name": "python3"
  },
  "language_info": {
   "codemirror_mode": {
    "name": "ipython",
    "version": 3
   },
   "file_extension": ".py",
   "mimetype": "text/x-python",
   "name": "python",
   "nbconvert_exporter": "python",
   "pygments_lexer": "ipython3",
   "version": "3.6.5"
  }
 },
 "nbformat": 4,
 "nbformat_minor": 2
}
