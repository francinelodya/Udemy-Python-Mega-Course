{
 "cells": [
  {
   "cell_type": "code",
   "execution_count": null,
   "metadata": {},
   "outputs": [],
   "source": [
    "import json\n",
    "from difflib import get_close_matches\n",
    "\n",
    "data = json.load(open(\"data.json\"))\n",
    "\n",
    "def translate(word):\n",
    "    word = word.lower()\n",
    "    if word in data:\n",
    "        return data[word]\n",
    "    elif len(get_close_matches(word,data.keys()))>0:\n",
    "            return \"Did you mean %s instead?\" %get_close_matches(word,data.keys())[0]\n",
    "    else:\n",
    "        return \"The Word doesnt exist! Please double check it\"\n",
    "flag = True\n",
    "while(flag == True):\n",
    "    word = input(\"Enter a word: \")\n",
    "    print(translate(word))\n",
    "    flag1 = input(\"Do you want to enter the word again? Y for Yes, N for No\")\n",
    "    if flag1 == Y:\n",
    "        flag = True\n",
    "    else:\n",
    "        flag = False\n",
    "        "
   ]
  },
  {
   "cell_type": "code",
   "execution_count": null,
   "metadata": {},
   "outputs": [],
   "source": []
  },
  {
   "cell_type": "code",
   "execution_count": null,
   "metadata": {},
   "outputs": [],
   "source": []
  }
 ],
 "metadata": {
  "kernelspec": {
   "display_name": "Python 3",
   "language": "python",
   "name": "python3"
  },
  "language_info": {
   "codemirror_mode": {
    "name": "ipython",
    "version": 3
   },
   "file_extension": ".py",
   "mimetype": "text/x-python",
   "name": "python",
   "nbconvert_exporter": "python",
   "pygments_lexer": "ipython3",
   "version": "3.6.5"
  }
 },
 "nbformat": 4,
 "nbformat_minor": 2
}
